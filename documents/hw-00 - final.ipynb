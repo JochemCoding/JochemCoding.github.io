{
 "cells": [
  {
   "cell_type": "markdown",
   "metadata": {},
   "source": [
    "# <img style=\"float: left; padding-right: 10px; width: 200px\" src=\"https://raw.githubusercontent.com/trivikverma/researchgroup/master/assets/media/logo.png\"> EPA-122A *Spatial* Data Science \n",
    "\n",
    "\n",
    "## Homework 0: Introduction to Python and its Numerical Stack\n",
    "\n",
    "**TU Delft**<br>\n",
    "**Q2 2023**<br>\n",
    "**Instructor:** Trivik Verma <br>\n",
    "**[Centre for Urban Science & Policy]( https://cusp.tbm.tudelft.nl/)** <br>\n",
    "\n",
    "\n",
    "---\n",
    "\n"
   ]
  },
  {
   "cell_type": "markdown",
   "metadata": {
    "tags": []
   },
   "source": [
    "# Homework Exercises"
   ]
  },
  {
   "cell_type": "markdown",
   "metadata": {},
   "source": [
    "## Exercise 1\n",
    "### Write a properly documented function with the following behaviour:\n",
    "\n",
    "- It has a meaningful name (i.e. it is related to its behaviour).\n",
    "- It takes an integer that represents the length of a sequence that will be created.\n",
    "- It creates a dictionary that is empty.\n",
    "- It loops over the sequence and stores each number as the key of an entry in the dictionary, assigning either \"odd\" or \"even\" to the value, depending on the type of number.\n",
    "\n",
    "- Returns the dictionary."
   ]
  },
  {
   "cell_type": "code",
   "execution_count": 93,
   "metadata": {},
   "outputs": [
    {
     "name": "stdout",
     "output_type": "stream",
     "text": [
      "0 is even\n",
      "1 is odd\n",
      "2 is even\n",
      "3 is odd\n",
      "4 is even\n",
      "5 is odd\n",
      "6 is even\n",
      "7 is odd\n",
      "8 is even\n",
      "9 is odd\n"
     ]
    }
   ],
   "source": [
    "#exercise 1\n",
    "\n",
    "import numpy as np\n",
    "def odd_even_numbers(sequence_length):\n",
    "    oddeven = {}\n",
    "for i in np.arange(10):\n",
    "    if i%2:\n",
    "        print(i,'is odd')\n",
    "    else:\n",
    "        print(i, 'is even')\n",
    "\n"
   ]
  },
  {
   "cell_type": "markdown",
   "metadata": {},
   "source": [
    "## Exercise 2\n",
    "### Create a tuple called `tup` with the following seven objects: \n",
    "\n",
    "- The first element is an integer of your choice\n",
    "- The second element is a float of your choice  \n",
    "- The third element is the sum of the first two elements\n",
    "- The fourth element is the difference of the first two elements\n",
    "- The fifth element is the first element divided by the second element\n",
    "\n",
    "- Display the output of `tup`.  What is the type of the variable `tup`? What happens if you try and chage an item in the tuple? "
   ]
  },
  {
   "cell_type": "code",
   "execution_count": 17,
   "metadata": {},
   "outputs": [
    {
     "name": "stdout",
     "output_type": "stream",
     "text": [
      "tuple: (1003, 5.66, 1008.66, 997.34, 177.20848056537102)\n",
      "type of 'tup': <class 'tuple'>\n"
     ]
    },
    {
     "ename": "TypeError",
     "evalue": "'tuple' object does not support item assignment",
     "output_type": "error",
     "traceback": [
      "\u001b[1;31m---------------------------------------------------------------------------\u001b[0m",
      "\u001b[1;31mTypeError\u001b[0m                                 Traceback (most recent call last)",
      "Cell \u001b[1;32mIn[17], line 10\u001b[0m\n\u001b[0;32m      8\u001b[0m \u001b[38;5;28mprint\u001b[39m(\u001b[38;5;124m\"\u001b[39m\u001b[38;5;124mtuple:\u001b[39m\u001b[38;5;124m\"\u001b[39m, tup)\n\u001b[0;32m      9\u001b[0m \u001b[38;5;28mprint\u001b[39m(\u001b[38;5;124m\"\u001b[39m\u001b[38;5;124mtype of \u001b[39m\u001b[38;5;124m'\u001b[39m\u001b[38;5;124mtup\u001b[39m\u001b[38;5;124m'\u001b[39m\u001b[38;5;124m:\u001b[39m\u001b[38;5;124m\"\u001b[39m, \u001b[38;5;28mtype\u001b[39m(tup))\n\u001b[1;32m---> 10\u001b[0m \u001b[43mtup\u001b[49m\u001b[43m[\u001b[49m\u001b[38;5;241;43m0\u001b[39;49m\u001b[43m]\u001b[49m \u001b[38;5;241m=\u001b[39m \u001b[38;5;241m1\u001b[39m\n",
      "\u001b[1;31mTypeError\u001b[0m: 'tuple' object does not support item assignment"
     ]
    }
   ],
   "source": [
    "first_element = 1003\n",
    "second_element = 5.66\n",
    "third_element = first_element + second_element\n",
    "fourth_element = first_element - second_element\n",
    "fifth_element = first_element / second_element\n",
    "tup = (first_element, second_element, third_element, fourth_element, fifth_element)\n",
    "\n",
    "print(\"tuple:\", tup)\n",
    "print(\"type of 'tup':\", type(tup))\n",
    "tup[0] = 1\n",
    "\n",
    "\n",
    "\n"
   ]
  },
  {
   "cell_type": "markdown",
   "metadata": {},
   "source": [
    "## Exercise 3\n",
    "### Build a list that contains every prime number between 1 and 100, in two different ways:\n",
    "    \n",
    "1. Using for loops and conditional if statements.\n",
    "2. **(Stretch Goal)** Using a list comprehension.  You should be able to do this in one line of code. **Hint:** it might help to look up the function `all()` in the documentation."
   ]
  },
  {
   "cell_type": "code",
   "execution_count": 99,
   "metadata": {},
   "outputs": [
    {
     "name": "stdout",
     "output_type": "stream",
     "text": [
      "2\n",
      "3\n",
      "5\n",
      "7\n",
      "11\n",
      "13\n",
      "17\n",
      "19\n",
      "23\n",
      "29\n",
      "31\n",
      "37\n",
      "41\n",
      "43\n",
      "47\n",
      "53\n",
      "59\n",
      "61\n",
      "67\n",
      "71\n",
      "73\n",
      "79\n",
      "83\n",
      "89\n",
      "97\n",
      "[2, 3, 5, 7, 11, 13, 17, 19, 23, 29, 31, 37, 41, 43, 47, 53, 59, 61, 67, 71, 73, 79, 83, 89, 97]\n"
     ]
    }
   ],
   "source": [
    "#exersice 1\n",
    "import numpy as np\n",
    "def prime(n):\n",
    "    if n < 2:\n",
    "        return False\n",
    "    for i in range(2, int(n ** 0.5) + 1):\n",
    "        if n % i == 0:\n",
    "            return False\n",
    "    return True\n",
    "for i in range(1, 101):\n",
    "    if prime(i):\n",
    "        print(i)\n",
    "\n",
    "#exersice 2\n",
    "prime = []\n",
    "for n in range(2, 101):\n",
    "    if all(n % i != 0 for i in range(2, int(n ** 0.5) + 1)):\n",
    "        prime.append(n)\n",
    "\n",
    "print(prime)\n",
    "\n",
    "\n",
    "\n"
   ]
  },
  {
   "cell_type": "markdown",
   "metadata": {},
   "source": [
    "## Exercise 4\n",
    "### Write a function to test the \"prime-ness\" of a number.\n",
    "    \n",
    "In Exercise 3, above, you wrote code that generated a list of the prime numbers between 1 and 100. Now, write a function called `isprime()` that takes in a positive integer $N$, and determines whether or not it is prime.  Return `True` if it's prime and return `False` if it isn't. Then, using a list comprehension and `isprime()`, create a list `myprimes` that contains all the prime numbers less than 100.  "
   ]
  },
  {
   "cell_type": "code",
   "execution_count": 16,
   "metadata": {},
   "outputs": [
    {
     "name": "stdout",
     "output_type": "stream",
     "text": [
      "prime numbers: [2, 3, 5, 7, 11, 13, 17, 19, 23, 29, 31, 37, 41, 43, 47, 53, 59, 61, 67, 71, 73, 79, 83, 89, 97]\n",
      "Is 4 a prime number? False\n"
     ]
    }
   ],
   "source": [
    "def isprime(N):\n",
    "    if N <= 1:\n",
    "        return False\n",
    "    if N == 2:\n",
    "        return True\n",
    "    if N % 2 == 0:\n",
    "        return False\n",
    "    for i in range(3, int(N**0.5) + 1, 2):\n",
    "        if N % i == 0:\n",
    "            return False\n",
    "    return True    \n",
    "\n",
    "myprimes = [num for num in range (2, 100) if isprime(num)]\n",
    "\n",
    "print(\"prime numbers:\", myprimes)\n",
    "result = isprime(4)\n",
    "\n",
    "# Output the result\n",
    "print(f\"Is 4 a prime number? {result}\")"
   ]
  },
  {
   "cell_type": "markdown",
   "metadata": {},
   "source": [
    "---"
   ]
  },
  {
   "cell_type": "markdown",
   "metadata": {},
   "source": [
    "## Optional Exercise\n",
    "### Try to reproduce, using markdown and the different tools the notebook affords you, the following WikiPedia entry:\n",
    "\n",
    "\n",
    "> https://en.wikipedia.org/wiki/Puppy\n"
   ]
  },
  {
   "cell_type": "code",
   "execution_count": 14,
   "metadata": {},
   "outputs": [
    {
     "data": {
      "text/html": [
       "\n",
       "        <iframe\n",
       "            width=\"700\"\n",
       "            height=\"500\"\n",
       "            src=\"https://en.wikipedia.org/wiki/Puppy\"\n",
       "            frameborder=\"0\"\n",
       "            allowfullscreen\n",
       "            \n",
       "        ></iframe>\n",
       "        "
      ],
      "text/plain": [
       "<IPython.lib.display.IFrame at 0x2c81cc9be90>"
      ]
     },
     "execution_count": 14,
     "metadata": {},
     "output_type": "execute_result"
    }
   ],
   "source": [
    "from IPython.display import IFrame\n",
    "IFrame('https://en.wikipedia.org/wiki/Puppy', 700, 500)"
   ]
  },
  {
   "cell_type": "markdown",
   "metadata": {},
   "source": [
    "Do not over think it. Focuse and pay special attention to getting the bold, italics, links, headlines and lists correctly formated, but don't worry too much about the overall layout. Bonus if you manage to insert the image as well (it does not need to be properly placed as in the original page)!"
   ]
  },
  {
   "cell_type": "markdown",
   "metadata": {},
   "source": [
    "### Puppy\n",
    "\n",
    "From Wikipedia, the free encyclopedia\n",
    "\n",
    "*This article is about the domestic dog. For other uses, see Puppy (disambiguation).\n",
    "\"Baby dog\" redirects here. For the dog owned by Jim Justice, see Babydog.*\n",
    "\n",
    "\n",
    "De tekst gaat verder en past zich aan rondom de derde afbeelding.\n",
    "A **puppy** is a juvenile dog. Some puppies can weigh 1–1.5 kg (2.2–3.3 lb), while larger ones can weigh over 7 kg (15 lb). All puppies display primary altriciality and healthy puppies grow quickly after birth. A puppy's coat color may change as the puppy grows older, as is commonly seen in breeds such as the Yorkshire Terrier. *Puppy* refers specifically to young dogs [(1)](https://www.merriam-webster.com/dictionary/puppy), while *pup* may be used for other animals such as wolves, seals, giraffes, guinea pigs, rats or sharks [(2)](https://www.merriam-webster.com/dictionary/pup).\n",
    "\n",
    "<div style=\"float: right; margin-left: 10px; margin-bottom: 10px;\">\n",
    "  <img src=\"https://upload.wikimedia.org/wikipedia/commons/6/6e/Golde33443.jpg\" alt=\"Golden Retriever\" width=\"150\">\n",
    "</div>\n",
    "\n",
    "## Prenatal development\n",
    "Dogs go through prenatal development before they are born, just like all animals do. The germinal stage, the embryonic stage, and the fetal stage are the three phases that make up this development.\n",
    "\n",
    "The first stage of prenatal growth in dogs is known as the germinal stage, which starts at fertilization and lasts for about two weeks. The fertilized egg, also known as the zygote, travels through the fallopian tube to the uterus during this period while undergoing rapid cell division. The placenta, which will feed the growing puppy, is formed once the zygote enters the uterus and settles in the uterine wall [(3)](https://en.wikipedia.org/wiki/Puppy#cite_note-3).\n",
    "\n",
    "<div style=\"float: right; margin-left: 10px; margin-bottom: 10px;\">\n",
    "  <img src=\"https://upload.wikimedia.org/wikipedia/commons/a/af/Cara_de_quem_caiu_do_caminh%C3%A3o..._%28cropped%29.jpg\" alt=\"Basset Hound\" width=\"150\">\n",
    "</div>\n",
    "\n",
    "The embryonic period lasts from about day 14 of pregnancy until day 28 or so. With the growth of important organs and body systems, the embryo starts to take on a more recognizable shape at this stage. This involves the development of the digestive system, brain, heart, and lungs. An ultrasound can show the embryo at this time, which is about the size of a grape [(4)](https://en.wikipedia.org/wiki/Puppy#cite_note-4).\n",
    "\n",
    "<div style=\"float: right; margin-left: 10px;\">\n",
    "  <img src=\"https://upload.wikimedia.org/wikipedia/commons/8/8c/New_born_pups.JPG\" alt=\"Newborn Welsh Springer Spaniels 3\" width=\"150\">\n",
    "</div>\n",
    "\n",
    "Around day 28 is when the fetal period starts, and it lasts until day 63, when the puppy is born. The puppy's organs and systems continue to develop and refine during this period of growth and development. It also involves the ability to control its own body temperature as well as the maturation of the senses, such as hearing and sight. The puppy is completely developed and prepared for birth by the time the fetal period is over[(5)](https://en.wikipedia.org/wiki/Puppy#cite_note-5).\n",
    "\n",
    "## Development\n",
    "Puppies are born after an average of 63 days of gestation, emerging in an amnion that is bitten off and eaten by the mother dog [(6)](https://en.wikipedia.org/wiki/Puppy#cite_note-6).\n",
    " Puppies begin to nurse almost immediately. If the litter exceeds six puppies, particularly if one or more are obvious runts, human intervention in hand-feeding the stronger puppies is necessary to ensure that the runts get proper nourishment and attention from the mother. As they reach one month of age, puppies are gradually weaned and begin to eat solid food. The mother may regurgitate partially digested food for the puppies or might let them eat some of her solid food [(7)](https://en.wikipedia.org/wiki/Puppy#cite_note-7).\n",
    " The mother usually refuses to nurse at this stage, though she might let them occasionally nurse for comfort.\n",
    "\n",
    "At first, puppies spend the large majority of their time sleeping and the rest feeding. They instinctively pile together into a heap, and become distressed if separated from physical contact with their littermates by even a short distance [(8)](https://en.wikipedia.org/wiki/Puppy#cite_note-8).\n",
    "\n",
    "\n",
    "Puppies are born with a fully functional sense of smell. They are unable to open their eyes. During their first two weeks, a puppy's senses all develop rapidly. During this stage the nose is the primary sense organ used by puppies to find their mother's teats, and to locate their littermates, if they become separated by a short distance. Puppies open their eyes about nine to eleven days following birth. At first, their retinas are poorly developed and their vision is poor. Puppies are not able to see as well as adult dogs. In addition, puppies' ears remain sealed until about thirteen to seventeen days after birth, after which they respond more actively to sounds. Between two and four weeks old, puppies usually begin to growl, bite, wag their tails, and bark.[(9)](https://en.wikipedia.org/wiki/Puppy#cite_note-9).\n",
    "\n",
    "\n",
    "Puppies develop very quickly during their first three months, particularly after their eyes and ears open and they are no longer completely dependent on their mother. Their coordination and strength improve, they spar with their littermates, and begin to explore the world outside the nest. They play wrestling, chase, dominance, and tug-of-war games.\n",
    "\n",
    "A puppy Chihuahua (right) and puppy Toy Poodle playing in a Tokyo pet store, 2020\n",
    "Socialization\n",
    "\n",
    "A labradoodle puppy and a Golden Retriever puppy playing together\n",
    "Puppies are highly social animals and spend most of their waking hours interacting with either their mother or littermates. When puppies are socialized with humans, particularly between the ages of eight and twelve weeks, they develop social skills around people. Those that do not receive adequate socialization during this period may display fearful behavior around humans or other dogs as adults. The optimum period for socialisation is between eight and twelve weeks; professional animal trainers and the American Kennel Club advise puppies should be introduced to \"100 People by 12 Weeks\" and have encountered a wide and varied selection of people and environments [(10)](https://en.wikipedia.org/wiki/Puppy#cite_note-10).\n",
    "\n",
    "\n",
    "## Docking and declawing\n",
    "The practice of docking began primarily as a preventive measure for injury among working dogs. Docking is now primarily performed for purely cosmetic reasons, and some breeds traditionally have their tails cropped anywhere from slightly to almost entirely [(11)](https://en.wikipedia.org/wiki/Puppy#cite_note-11).\n",
    " Many countries now ban cropping and docking for cosmetic purposes, including Australia, parts of Canada, the majority of the European countries (Austria, Greece, Finland, Netherlands, Italy, the Czech Republic, Turkey, Poland, Slovakia, England, Scotland, Slovenia, Ireland, Norway and Sweden), while others, such as the United States, permit it. As of 2008, the practice is opposed by the American Veterinary Medical Association [(12)](https://en.wikipedia.org/wiki/Puppy#cite_note-12).\n",
    " Some breeders also prefer to declaw the dogs to prevent future injuries caused by scratching, or in the case of dewclaws, ingrown and ripped-off nails. Docking and declawing procedures are usually performed within the first few days after birth, by a veterinarian, or by an experienced breeder.\n",
    "\n"
   ]
  }
 ],
 "metadata": {
  "kernelspec": {
   "display_name": "Python 3",
   "language": "python",
   "name": "python3"
  },
  "language_info": {
   "codemirror_mode": {
    "name": "ipython",
    "version": 3
   },
   "file_extension": ".py",
   "mimetype": "text/x-python",
   "name": "python",
   "nbconvert_exporter": "python",
   "pygments_lexer": "ipython3",
   "version": "3.12.5"
  }
 },
 "nbformat": 4,
 "nbformat_minor": 4
}
